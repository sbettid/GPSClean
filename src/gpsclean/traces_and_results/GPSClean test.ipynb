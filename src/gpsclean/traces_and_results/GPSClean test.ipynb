{
 "cells": [
  {
   "cell_type": "markdown",
   "metadata": {},
   "source": [
    "# GPS Clean Test"
   ]
  },
  {
   "cell_type": "markdown",
   "metadata": {},
   "source": [
    "Testing the code for the GPS Clean app, which applies the pre-learned model to predict a new trace, provided in the GPX format, and corrects it using the Kalman Filter technique on the points recognised as outliers. "
   ]
  },
  {
   "cell_type": "code",
   "execution_count": 1,
   "metadata": {},
   "outputs": [],
   "source": [
    "import gpxpy\n",
    "import gpxpy.gpx\n",
    "import numpy as np\n",
    "import gpsclean_transform as gt\n",
    "import FullTraining as ft\n",
    "import tensorflow as tf\n",
    "import Correction as tc\n",
    "from geojson import Feature, LineString, FeatureCollection, dump\n",
    "import argparse"
   ]
  },
  {
   "cell_type": "code",
   "execution_count": 2,
   "metadata": {},
   "outputs": [
    {
     "data": {
      "text/plain": [
       "<module 'Correction' from 'C:\\\\Users\\\\Davide\\\\Documents\\\\unibz\\\\2_Master\\\\Tesi\\\\TransformAndModelling\\\\gpsclean\\\\Correction.py'>"
      ]
     },
     "execution_count": 2,
     "metadata": {},
     "output_type": "execute_result"
    }
   ],
   "source": [
    "import importlib\n",
    "importlib.reload(gt)\n",
    "importlib.reload(ft)\n",
    "importlib.reload(tc)"
   ]
  },
  {
   "cell_type": "markdown",
   "metadata": {},
   "source": [
    "Load a trace from a GPX file and create arrays of points and timestamps. "
   ]
  },
  {
   "cell_type": "code",
   "execution_count": 3,
   "metadata": {},
   "outputs": [],
   "source": [
    "labels_dict = {\n",
    "    0 : 'Correct',\n",
    "    1: 'Pause',\n",
    "    2: 'Outlier',\n",
    "    3: 'Indoor',  \n",
    "}"
   ]
  },
  {
   "cell_type": "code",
   "execution_count": 4,
   "metadata": {},
   "outputs": [],
   "source": [
    "gpx_file = open('Colle.gpx', 'r')\n",
    "gpx = gpxpy.parse(gpx_file)"
   ]
  },
  {
   "cell_type": "code",
   "execution_count": 5,
   "metadata": {},
   "outputs": [],
   "source": [
    "points = []\n",
    "times = []\n",
    "\n",
    "for track in gpx.tracks:\n",
    "    for segment in track.segments:\n",
    "        for point in segment.points:\n",
    "            points.append(np.array([point.longitude, point.latitude, point.elevation, point.time]))\n",
    "            times.append(point.time)\n",
    "            \n",
    "points = np.array(points)\n",
    "times = np.array(times)"
   ]
  },
  {
   "cell_type": "code",
   "execution_count": 6,
   "metadata": {
    "scrolled": true
   },
   "outputs": [
    {
     "data": {
      "text/plain": [
       "(2432, 4)"
      ]
     },
     "execution_count": 6,
     "metadata": {},
     "output_type": "execute_result"
    }
   ],
   "source": [
    "points.shape"
   ]
  },
  {
   "cell_type": "markdown",
   "metadata": {},
   "source": [
    "Now we need to create the deltas"
   ]
  },
  {
   "cell_type": "code",
   "execution_count": 7,
   "metadata": {
    "scrolled": true
   },
   "outputs": [],
   "source": [
    "deltas = gt.create_deltas(points, times)"
   ]
  },
  {
   "cell_type": "code",
   "execution_count": 8,
   "metadata": {},
   "outputs": [
    {
     "data": {
      "text/plain": [
       "(2431, 4)"
      ]
     },
     "execution_count": 8,
     "metadata": {},
     "output_type": "execute_result"
    }
   ],
   "source": [
    "deltas.shape"
   ]
  },
  {
   "cell_type": "markdown",
   "metadata": {},
   "source": [
    "Loading the model"
   ]
  },
  {
   "cell_type": "code",
   "execution_count": 9,
   "metadata": {},
   "outputs": [],
   "source": [
    "model = tf.keras.models.load_model(\"../models/model_42t_traces.h5\")"
   ]
  },
  {
   "cell_type": "markdown",
   "metadata": {},
   "source": [
    "Then we can predict the trace obtaining so the predictions of each point"
   ]
  },
  {
   "cell_type": "code",
   "execution_count": 10,
   "metadata": {},
   "outputs": [
    {
     "name": "stdout",
     "output_type": "stream",
     "text": [
      "(1216, 15, 4)\n",
      "(1216, 15)\n",
      "Predictions shape:  (1216, 15)\n"
     ]
    }
   ],
   "source": [
    "segments, indices, predictions = ft.predict_trace(model, deltas, 15, 2)"
   ]
  },
  {
   "cell_type": "markdown",
   "metadata": {},
   "source": [
    "Compress predictions"
   ]
  },
  {
   "cell_type": "code",
   "execution_count": 11,
   "metadata": {},
   "outputs": [],
   "source": [
    "pred_points = ft.compress_trace_predictions(predictions, indices, 4)"
   ]
  },
  {
   "cell_type": "code",
   "execution_count": 12,
   "metadata": {},
   "outputs": [
    {
     "data": {
      "text/plain": [
       "(2431,)"
      ]
     },
     "execution_count": 12,
     "metadata": {},
     "output_type": "execute_result"
    }
   ],
   "source": [
    "pred_points.shape"
   ]
  },
  {
   "cell_type": "markdown",
   "metadata": {},
   "source": [
    "Correction part 1: removing pauses"
   ]
  },
  {
   "cell_type": "code",
   "execution_count": 13,
   "metadata": {},
   "outputs": [],
   "source": [
    "full_pred_points = np.insert(pred_points, 0, 0)"
   ]
  },
  {
   "cell_type": "code",
   "execution_count": 14,
   "metadata": {},
   "outputs": [
    {
     "name": "stdout",
     "output_type": "stream",
     "text": [
      "Coords:  2432 , Preds:  (2432,)\n"
     ]
    }
   ],
   "source": [
    "reduced_points, reduced_times, reduced_delta, reduced_predictions, original_trace, original_times = tc.remove_pauses(points[:,:3], \n",
    "                                                                                                                     times, full_pred_points, None)"
   ]
  },
  {
   "cell_type": "markdown",
   "metadata": {},
   "source": [
    "Correction part: now using Kalman filters"
   ]
  },
  {
   "cell_type": "code",
   "execution_count": 15,
   "metadata": {},
   "outputs": [
    {
     "name": "stdout",
     "output_type": "stream",
     "text": [
      "Points shape:  (2346, 3)\n",
      "Filtered points:  (2346, 3)\n"
     ]
    }
   ],
   "source": [
    "kalman_trace, kalman_times = tc.kalman_smoothing(reduced_points, reduced_times, reduced_predictions)"
   ]
  },
  {
   "cell_type": "code",
   "execution_count": 129,
   "metadata": {},
   "outputs": [
    {
     "data": {
      "text/plain": [
       "array([[11.335952309891582, 46.49373251013458, 262.3999938964844],\n",
       "       [11.33598298765719, 46.49378766305745, 262.6000061035156],\n",
       "       [11.336032021790743, 46.49382412433624, 262.79998779296875],\n",
       "       [11.336093042045832, 46.49382144212723, 262.79998779296875],\n",
       "       [11.336106704548001, 46.49381406605244, 262.79998779296875],\n",
       "       [11.336111901327968, 46.49376536719501, 262.6000061035156],\n",
       "       [11.33612816222012, 46.49378632195294, 262.6000061035156]],\n",
       "      dtype=object)"
      ]
     },
     "execution_count": 129,
     "metadata": {},
     "output_type": "execute_result"
    }
   ],
   "source": [
    "reduced_points"
   ]
  },
  {
   "cell_type": "code",
   "execution_count": 128,
   "metadata": {},
   "outputs": [
    {
     "data": {
      "text/plain": [
       "array([[ 11.33595231,  46.49373251, 262.3999939 ],\n",
       "       [ 11.33598299,  46.49378766, 262.6000061 ],\n",
       "       [ 11.33603202,  46.49382412, 262.79998779],\n",
       "       [ 11.33609304,  46.49382144, 262.7999878 ],\n",
       "       [ 11.3361067 ,  46.49381407, 262.79998779],\n",
       "       [ 11.3361119 ,  46.49376537, 262.60000611],\n",
       "       [ 11.33612816,  46.49378632, 262.6000061 ]])"
      ]
     },
     "execution_count": 128,
     "metadata": {},
     "output_type": "execute_result"
    }
   ],
   "source": [
    "kalman_trace"
   ]
  },
  {
   "cell_type": "markdown",
   "metadata": {},
   "source": [
    "Now re-create cleaned gpx file"
   ]
  },
  {
   "cell_type": "code",
   "execution_count": 16,
   "metadata": {},
   "outputs": [],
   "source": [
    "gpx = gpxpy.gpx.GPX()\n",
    "\n",
    "# Create first track in our GPX:\n",
    "gpx_track = gpxpy.gpx.GPXTrack()\n",
    "gpx.tracks.append(gpx_track)\n",
    "\n",
    "# Create first segment in our GPX track:\n",
    "gpx_segment = gpxpy.gpx.GPXTrackSegment()\n",
    "gpx_track.segments.append(gpx_segment)\n",
    "\n",
    "#loop over points and add\n",
    "for i in range(kalman_trace.shape[0]):\n",
    "    gpx_segment.points.append(gpxpy.gpx.GPXTrackPoint(longitude=kalman_trace[i][0], latitude=kalman_trace[i][1], \n",
    "                                                      elevation=kalman_trace[i][2], time=kalman_times[i]))"
   ]
  },
  {
   "cell_type": "code",
   "execution_count": 17,
   "metadata": {},
   "outputs": [],
   "source": [
    "with open('Colle_cleaned.gpx', 'w') as f:\n",
    "    f.write(gpx.to_xml())"
   ]
  },
  {
   "cell_type": "markdown",
   "metadata": {},
   "source": [
    "And let's create a GeoJson file with the original trace and the derived annotations"
   ]
  },
  {
   "cell_type": "code",
   "execution_count": 18,
   "metadata": {},
   "outputs": [],
   "source": [
    "geojson_coords = []\n",
    "geojson_times = []\n",
    "\n",
    "for i in range(points.shape[0]):\n",
    "    geojson_coords.append((points[i][0], points[i][1], points[i][2]))\n",
    "    geojson_times.append(times[i].isoformat())"
   ]
  },
  {
   "cell_type": "code",
   "execution_count": 19,
   "metadata": {},
   "outputs": [],
   "source": [
    "annotations = []\n",
    "\n",
    "cur_start = -1\n",
    "cur_end = -1\n",
    "cur_type = 0\n",
    "cur_started = False\n",
    "\n",
    "for i in range(full_pred_points.shape[0]):\n",
    "    \n",
    "    if full_pred_points[i] > 0:\n",
    "        if cur_started:\n",
    "            if full_pred_points[i] == cur_type:\n",
    "                cur_end = i\n",
    "            else:\n",
    "                annotations.append({'start' : cur_start, 'end' : cur_end, 'annotation' : labels_dict[cur_type]})\n",
    "                cur_start = i\n",
    "                cur_end = i\n",
    "                cur_type = full_pred_points[i]\n",
    "                cur_started = True\n",
    "        else:\n",
    "            cur_start = i\n",
    "            cur_end = i\n",
    "            cur_type = full_pred_points[i]\n",
    "            cur_started = True\n",
    "    else:\n",
    "        if cur_started:\n",
    "            annotations.append({'start' : cur_start, 'end' : cur_end, 'annotation' : labels_dict[cur_type]})\n",
    "        \n",
    "        cur_started = False\n",
    "        \n",
    "\n",
    "if cur_started:\n",
    "    annotations.append({'start' : cur_start, 'end' : cur_end - 1, 'annotation' : labels_dict[cur_type]})"
   ]
  },
  {
   "cell_type": "code",
   "execution_count": 122,
   "metadata": {},
   "outputs": [
    {
     "data": {
      "text/plain": [
       "[{'start': 5, 'end': 5, 'annotation': 'Pause'},\n",
       " {'start': 8, 'end': 50, 'annotation': 'Pause'}]"
      ]
     },
     "execution_count": 122,
     "metadata": {},
     "output_type": "execute_result"
    }
   ],
   "source": [
    "annotations"
   ]
  },
  {
   "cell_type": "code",
   "execution_count": 20,
   "metadata": {},
   "outputs": [],
   "source": [
    "properties = {'coordTimes' : geojson_times, 'annotations' : annotations}"
   ]
  },
  {
   "cell_type": "code",
   "execution_count": 21,
   "metadata": {
    "scrolled": true
   },
   "outputs": [],
   "source": [
    "line = LineString(geojson_coords)\n",
    "feature = Feature(geometry=line, properties = properties)"
   ]
  },
  {
   "cell_type": "code",
   "execution_count": 22,
   "metadata": {},
   "outputs": [],
   "source": [
    "feature_collection = FeatureCollection([feature])"
   ]
  },
  {
   "cell_type": "code",
   "execution_count": 126,
   "metadata": {},
   "outputs": [
    {
     "data": {
      "text/plain": [
       "{\"features\": [{\"geometry\": {\"coordinates\": [[11.335952, 46.493733, 262.399994], [11.335983, 46.493788, 262.600006], [11.336032, 46.493824, 262.799988], [11.336093, 46.493821, 262.799988], [11.336107, 46.493814, 262.799988], [11.336113, 46.493765, 262.600006], [11.336112, 46.493765, 262.600006], [11.336128, 46.493786, 262.600006], [11.336138, 46.493808, 262.799988], [11.336154, 46.493822, 262.799988], [11.336185, 46.493841, 262.799988], [11.336188, 46.493841, 262.799988], [11.336195, 46.493838, 262.799988], [11.336209, 46.493838, 262.799988], [11.336214, 46.49383, 262.799988], [11.33621, 46.49383, 262.799988], [11.336182, 46.493845, 262.799988], [11.336219, 46.493786, 262.600006], [11.336253, 46.493791, 262.600006], [11.336256, 46.493793, 262.600006], [11.336256, 46.493794, 262.600006], [11.336281, 46.493802, 262.600006], [11.336269, 46.493807, 262.799988], [11.336258, 46.49381, 262.799988], [11.33625, 46.493811, 262.799988], [11.336242, 46.493812, 262.799988], [11.336239, 46.493811, 262.799988], [11.336227, 46.49381, 262.799988], [11.336225, 46.49381, 262.799988], [11.336196, 46.493855, 262.799988], [11.336182, 46.493865, 263.0], [11.336136, 46.493905, 263.0], [11.33616, 46.493909, 263.0], [11.336166, 46.493897, 263.0], [11.336106, 46.493878, 263.0], [11.336081, 46.493847, 262.799988], [11.336086, 46.493856, 262.799988], [11.336086, 46.493856, 262.799988], [11.336168, 46.493899, 263.0], [11.336128, 46.49384, 262.799988], [11.33612, 46.493823, 262.799988], [11.336106, 46.493816, 262.799988], [11.336105, 46.493814, 262.799988], [11.336106, 46.493812, 262.799988], [11.336106, 46.493811, 262.799988], [11.336104, 46.493808, 262.799988], [11.336103, 46.493808, 262.799988], [11.336103, 46.493808, 262.799988], [11.336104, 46.493808, 262.799988], [11.336106, 46.493811, 262.799988], [11.336108, 46.493813, 262.799988], [11.336109, 46.493814, 262.799988]], \"type\": \"LineString\"}, \"properties\": {\"annotations\": [{\"annotation\": \"Pause\", \"end\": 5, \"start\": 5}, {\"annotation\": \"Pause\", \"end\": 50, \"start\": 8}], \"coordTimes\": [\"2021-04-04T15:59:05+00:00\", \"2021-04-04T15:59:06+00:00\", \"2021-04-04T15:59:09+00:00\", \"2021-04-04T15:59:12+00:00\", \"2021-04-04T15:59:13+00:00\", \"2021-04-04T15:59:18+00:00\", \"2021-04-04T15:59:19+00:00\", \"2021-04-04T15:59:23+00:00\", \"2021-04-04T15:59:29+00:00\", \"2021-04-04T15:59:31+00:00\", \"2021-04-04T15:59:34+00:00\", \"2021-04-04T15:59:35+00:00\", \"2021-04-04T15:59:41+00:00\", \"2021-04-04T15:59:44+00:00\", \"2021-04-04T16:00:12+00:00\", \"2021-04-04T16:00:18+00:00\", \"2021-04-04T16:00:50+00:00\", \"2021-04-04T16:01:55+00:00\", \"2021-04-04T16:02:10+00:00\", \"2021-04-04T16:02:19+00:00\", \"2021-04-04T16:02:25+00:00\", \"2021-04-04T16:02:55+00:00\", \"2021-04-04T16:03:34+00:00\", \"2021-04-04T16:04:36+00:00\", \"2021-04-04T16:05:09+00:00\", \"2021-04-04T16:05:50+00:00\", \"2021-04-04T16:06:03+00:00\", \"2021-04-04T16:06:48+00:00\", \"2021-04-04T16:06:56+00:00\", \"2021-04-04T16:07:19+00:00\", \"2021-04-04T16:07:20+00:00\", \"2021-04-04T16:07:27+00:00\", \"2021-04-04T16:07:33+00:00\", \"2021-04-04T16:07:40+00:00\", \"2021-04-04T16:07:50+00:00\", \"2021-04-04T16:07:59+00:00\", \"2021-04-04T16:08:07+00:00\", \"2021-04-04T16:08:20+00:00\", \"2021-04-04T16:08:53+00:00\", \"2021-04-04T16:09:46+00:00\", \"2021-04-04T16:09:49+00:00\", \"2021-04-04T16:09:55+00:00\", \"2021-04-04T16:11:58+00:00\", \"2021-04-04T16:12:14+00:00\", \"2021-04-04T16:12:29+00:00\", \"2021-04-04T16:12:49+00:00\", \"2021-04-04T16:13:14+00:00\", \"2021-04-04T16:13:26+00:00\", \"2021-04-04T16:13:33+00:00\", \"2021-04-04T16:13:51+00:00\", \"2021-04-04T16:14:00+00:00\", \"2021-04-04T16:14:06+00:00\"]}, \"type\": \"Feature\"}], \"type\": \"FeatureCollection\"}"
      ]
     },
     "execution_count": 126,
     "metadata": {},
     "output_type": "execute_result"
    }
   ],
   "source": [
    "feature_collection"
   ]
  },
  {
   "cell_type": "code",
   "execution_count": 23,
   "metadata": {},
   "outputs": [],
   "source": [
    "with open('Colle_predicted.geojson', 'w') as f:\n",
    "    dump(feature_collection, f)"
   ]
  },
  {
   "cell_type": "code",
   "execution_count": null,
   "metadata": {},
   "outputs": [],
   "source": []
  }
 ],
 "metadata": {
  "kernelspec": {
   "display_name": "Python 3",
   "language": "python",
   "name": "python3"
  },
  "language_info": {
   "codemirror_mode": {
    "name": "ipython",
    "version": 3
   },
   "file_extension": ".py",
   "mimetype": "text/x-python",
   "name": "python",
   "nbconvert_exporter": "python",
   "pygments_lexer": "ipython3",
   "version": "3.7.8"
  }
 },
 "nbformat": 4,
 "nbformat_minor": 4
}
